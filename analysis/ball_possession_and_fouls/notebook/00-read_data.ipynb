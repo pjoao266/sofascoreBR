{
 "cells": [
  {
   "cell_type": "code",
   "execution_count": 29,
   "metadata": {},
   "outputs": [],
   "source": [
    "import pandas as pd\n"
   ]
  },
  {
   "cell_type": "code",
   "execution_count": 39,
   "metadata": {},
   "outputs": [],
   "source": [
    "df_matches = pd.read_excel(\"../../../data/matches.xlsx\")[[\"id\", \"id_team_home\", \"id_team_away\"]]\n",
    "df_teams = pd.read_excel(\"../../../data/team.xlsx\")[[\"id\", \"name\"]]\n",
    "\n",
    "df_matches = pd.merge(df_matches, df_teams, how=\"left\", left_on=\"id_team_home\", right_on=\"id\").drop(columns=['id_y']).rename(columns={\"name\":\"name_team_home\"})\n",
    "df_matches = pd.merge(df_matches, df_teams, how=\"left\", left_on=\"id_team_away\", right_on=\"id\").drop(columns=['id']).rename(columns={\"name\":\"name_team_away\", \"id_x\":\"match_id\"})"
   ]
  },
  {
   "cell_type": "code",
   "execution_count": 40,
   "metadata": {},
   "outputs": [],
   "source": [
    "df_matches_stats = pd.read_excel(\"../../../data/teams_stats_match.xlsx\")\n"
   ]
  },
  {
   "cell_type": "code",
   "execution_count": 41,
   "metadata": {},
   "outputs": [],
   "source": [
    "df_matches_stats = df_matches_stats[df_matches_stats.period == \"ALL\"]\n",
    "df_matches_stats = pd.merge(df_matches_stats, df_matches, how=\"left\", left_on=\"id_match\", right_on=\"match_id\").drop(columns=[\"match_id\", \"id_team_home\", \"id_team_away\"])\n",
    "df_matches_stats = pd.merge(df_matches_stats, df_teams, how=\"left\", left_on=\"id_team\", right_on=\"id\").drop(columns=['id_y']).rename(columns={\"name\":\"name_team\", \"id_x\":\"id\"})\n",
    "df_matches_stats[\"match_name\"] = df_matches_stats.apply(lambda row: f\"{row.name_team_home} x {row.name_team_away}\", axis = 1)\n",
    "df_matches_stats[\"team_in_match_name\"] = df_matches_stats.apply(lambda row: f\"({row.name_team}) {row.name_team_home} x {row.name_team_away}\", axis = 1)\n",
    "\n"
   ]
  },
  {
   "cell_type": "code",
   "execution_count": 48,
   "metadata": {},
   "outputs": [],
   "source": [
    "df_matches_stats.to_csv(\"../data/processed/df_matches_stats.csv\")"
   ]
  }
 ],
 "metadata": {
  "kernelspec": {
   "display_name": "base",
   "language": "python",
   "name": "python3"
  },
  "language_info": {
   "codemirror_mode": {
    "name": "ipython",
    "version": 3
   },
   "file_extension": ".py",
   "mimetype": "text/x-python",
   "name": "python",
   "nbconvert_exporter": "python",
   "pygments_lexer": "ipython3",
   "version": "3.9.7"
  }
 },
 "nbformat": 4,
 "nbformat_minor": 2
}
