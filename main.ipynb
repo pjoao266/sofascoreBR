{
 "cells": [
  {
   "cell_type": "code",
   "execution_count": 1,
   "metadata": {},
   "outputs": [],
   "source": [
    "from classes.utils import *\n",
    "from SQLconfig.config_mysql import *\n",
    "import requests\n",
    "import pandas as pd\n",
    "import numpy as np\n",
    "import sys\n",
    "import time\n",
    "from selenium import webdriver\n",
    "from selenium.webdriver.chrome.service import Service as ChromeService\n",
    "from selenium.webdriver.common.by import By\n",
    "from webdriver_manager.chrome import ChromeDriverManager\n",
    "from selenium.webdriver.chrome.options import Options\n",
    "import json\n",
    "from datetime import datetime\n",
    "import _pickle as cPickle\n",
    "\n",
    "from classes.tournaments import Tournament\n",
    "from classes.players import Player\n",
    "from classes.events import Event\n",
    "from classes.managers import Manager\n",
    "from classes.teams import Team\n",
    "from classes.referees import Referee"
   ]
  },
  {
   "cell_type": "code",
   "execution_count": 7,
   "metadata": {},
   "outputs": [],
   "source": [
    "# LER E DEIXAR SALVO TORNEIOS/JOGOS/TIMES/JOGADORES/MANAGERS/ARBRITOS SALVOS"
   ]
  },
  {
   "cell_type": "markdown",
   "metadata": {},
   "source": [
    "Made changes."
   ]
  },
  {
   "cell_type": "code",
   "execution_count": 2,
   "metadata": {},
   "outputs": [],
   "source": [
    "brasileirao = Tournament(id = 325, year = 2024)\n",
    "brasileirao.run()\n",
    "brasileirao.save_all(mydb)"
   ]
  },
  {
   "cell_type": "code",
   "execution_count": 8,
   "metadata": {},
   "outputs": [],
   "source": [
    "with open('data/brasileirao.pickle', 'rb') as input_file:\n",
    "    brasileirao = cPickle.load(input_file)"
   ]
  },
  {
   "cell_type": "code",
   "execution_count": 10,
   "metadata": {},
   "outputs": [
    {
     "name": "stdout",
     "output_type": "stream",
     "text": [
      "Salvando informações do torneio...\n",
      "Salvando informações dos times...\n",
      "Salvando informações dos jogos...\n",
      "Salvando informações dos jogadores...\n",
      "Salvando informações dos técnicos...\n",
      "Salvando informações dos árbitros...\n",
      "Salvando informações dos standings...\n",
      "Salvando informações das estatísticas dos times...\n",
      "Salvando informações das estatísticas dos jogadores...\n",
      "Salvando informações do shotmap...\n",
      "Salvando informações dos gols...\n",
      "Salva informações no excel...\n"
     ]
    }
   ],
   "source": [
    "brasileirao.save_all(mydb)"
   ]
  }
 ],
 "metadata": {
  "kernelspec": {
   "display_name": "Python 3",
   "language": "python",
   "name": "python3"
  },
  "language_info": {
   "codemirror_mode": {
    "name": "ipython",
    "version": 3
   },
   "file_extension": ".py",
   "mimetype": "text/x-python",
   "name": "python",
   "nbconvert_exporter": "python",
   "pygments_lexer": "ipython3",
   "version": "3.9.1"
  }
 },
 "nbformat": 4,
 "nbformat_minor": 2
}
