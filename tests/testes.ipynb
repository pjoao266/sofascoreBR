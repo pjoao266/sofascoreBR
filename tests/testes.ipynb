{
 "cells": [
  {
   "cell_type": "code",
   "execution_count": 1,
   "metadata": {},
   "outputs": [],
   "source": [
    "import requests\n",
    "import pandas as pd\n",
    "import numpy as np\n",
    "import sys\n",
    "sys.path.append(\"../\")\n",
    "import time\n",
    "from selenium import webdriver\n",
    "from selenium.webdriver.chrome.service import Service as ChromeService\n",
    "from selenium.webdriver.common.by import By\n",
    "from webdriver_manager.chrome import ChromeDriverManager\n",
    "from selenium.webdriver.chrome.options import Options\n",
    "import json\n",
    "from datetime import datetime\n",
    "import _pickle as cPickle\n",
    "\n",
    "from classes.utils import *\n",
    "from SQLconfig.config_mysql import *\n",
    "from classes.tournaments import Tournament\n",
    "from classes.players import Player\n",
    "from classes.events import Event\n",
    "from classes.managers import Manager\n",
    "from classes.teams import Team\n",
    "from classes.referees import Referee"
   ]
  },
  {
   "cell_type": "markdown",
   "metadata": {},
   "source": [
    "Made changes."
   ]
  },
  {
   "cell_type": "code",
   "execution_count": 3,
   "metadata": {},
   "outputs": [
    {
     "name": "stdout",
     "output_type": "stream",
     "text": [
      "Pegando informações do torneio...\n",
      "Calculando tabela do torneio...\n",
      "Pegando informações de eventos do torneio...\n",
      "Jogo: Cuiabá x Vitória - 2ª rodada - ID: 12116992\n",
      "Jogo: Criciúma x Fortaleza - 3ª rodada - ID: 12117003\n",
      "Jogo: Criciúma x Fortaleza - 3ª rodada - ID: 12479063\n",
      "Jogo: Red Bull Bragantino x Internacional - 16ª rodada - ID: 12117130\n",
      "Jogo: Cuiabá x Juventude - 16ª rodada - ID: 12117132\n",
      "Jogo: Bahia x Cuiabá - 17ª rodada - ID: 12117136\n",
      "Pegando estatísticas dos times do jogo...\n",
      "Pegando informações do shotmap do jogo...\n",
      "Jogo: Cruzeiro x Red Bull Bragantino - 17ª rodada - ID: 12117135\n",
      "Pegando estatísticas dos times do jogo...\n",
      "Pegando informações do shotmap do jogo...\n",
      "Jogo: Juventude x Atlético Mineiro - 17ª rodada - ID: 12117143\n",
      "Jogo: Corinthians x Criciúma - 17ª rodada - ID: 12117139\n",
      "Jogo: Fluminense x Athletico - 17ª rodada - ID: 12117137\n",
      "Jogo: Internacional x Flamengo - 17ª rodada - ID: 12117134\n",
      "Jogo: Atlético Goianiense x Vasco da Gama - 17ª rodada - ID: 12117142\n",
      "Jogo: São Paulo x Grêmio - 17ª rodada - ID: 12117140\n",
      "Jogo: Botafogo x Palmeiras - 17ª rodada - ID: 12117138\n",
      "Jogo: Fortaleza x Vitória - 17ª rodada - ID: 12117141\n",
      "Pegando informações dos jogadores...\n",
      "Pegando informações dos técnicos...\n",
      "Pegando informações dos árbitros...\n"
     ]
    }
   ],
   "source": [
    "brasileirao = Tournament(id = 325, year = 2024)\n",
    "brasileirao.run()\n",
    "brasileirao.save_all(mydb)"
   ]
  },
  {
   "cell_type": "code",
   "execution_count": null,
   "metadata": {},
   "outputs": [],
   "source": [
    "from git import Repo\n",
    "\n",
    "PATH_OF_GIT_REPO = '.git/'  # make sure .git folder is properly configured\n",
    "COMMIT_MESSAGE = 'comment from python script'\n",
    "\n",
    "def git_push():\n",
    "    try:\n",
    "        repo = Repo(PATH_OF_GIT_REPO)\n",
    "        repo.git.add(update=True)\n",
    "        repo.index.commit(COMMIT_MESSAGE)\n",
    "        origin = repo.remote(name='origin')\n",
    "        origin.push()\n",
    "    except:\n",
    "        print('Some error occured while pushing the code')    \n",
    "\n",
    "git_push()"
   ]
  }
 ],
 "metadata": {
  "kernelspec": {
   "display_name": "Python 3",
   "language": "python",
   "name": "python3"
  },
  "language_info": {
   "codemirror_mode": {
    "name": "ipython",
    "version": 3
   },
   "file_extension": ".py",
   "mimetype": "text/x-python",
   "name": "python",
   "nbconvert_exporter": "python",
   "pygments_lexer": "ipython3",
   "version": "3.9.1"
  }
 },
 "nbformat": 4,
 "nbformat_minor": 2
}
